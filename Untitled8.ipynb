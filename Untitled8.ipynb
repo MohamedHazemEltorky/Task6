{
 "cells": [
  {
   "cell_type": "code",
   "execution_count": 8,
   "id": "5fd6b863",
   "metadata": {},
   "outputs": [
    {
     "name": "stdout",
     "output_type": "stream",
     "text": [
      "Number of features: 16\n"
     ]
    }
   ],
   "source": [
    "import pandas as pd\n",
    "\n",
    "df = pd.read_csv('https://raw.githubusercontent.com/Momen2410/Machine-Learning-Course/main/Data/smoke_detection_iot.csv')\n",
    "\n",
    "num_features = df.shape[1]\n",
    "\n",
    "print(\"Number of features:\", num_features)\n"
   ]
  },
  {
   "cell_type": "code",
   "execution_count": 9,
   "id": "06cb4225",
   "metadata": {},
   "outputs": [
    {
     "name": "stdout",
     "output_type": "stream",
     "text": [
      "Number of data points: 62630\n"
     ]
    }
   ],
   "source": [
    "import pandas as pd\n",
    "\n",
    "df = pd.read_csv('https://raw.githubusercontent.com/Momen2410/Machine-Learning-Course/main/Data/smoke_detection_iot.csv')\n",
    "\n",
    "num_data_points = df.shape[0]\n",
    "\n",
    "print(\"Number of data points:\", num_data_points)\n"
   ]
  },
  {
   "cell_type": "code",
   "execution_count": 10,
   "id": "b92bb0d1",
   "metadata": {},
   "outputs": [
    {
     "name": "stdout",
     "output_type": "stream",
     "text": [
      "   num  Temperature  Humidity  TVOC  eCO2  Raw_H2  Raw_Ethanol  Pressure  PM1  \\\n",
      "0    0       20.000     57.36     0   400   12306        18520   939.735  0.0   \n",
      "1    1       20.015     56.67     0   400   12345        18651   939.744  0.0   \n",
      "2    2       20.029     55.96     0   400   12374        18764   939.738  0.0   \n",
      "3    3       20.044     55.28     0   400   12390        18849   939.736  0.0   \n",
      "4    4       20.059     54.69     0   400   12403        18921   939.744  0.0   \n",
      "\n",
      "   PM2  NC0  NC1  NC2  CNT  Fire_Alarm  \n",
      "0  0.0  0.0  0.0  0.0    0           0  \n",
      "1  0.0  0.0  0.0  0.0    1           0  \n",
      "2  0.0  0.0  0.0  0.0    2           0  \n",
      "3  0.0  0.0  0.0  0.0    3           0  \n",
      "4  0.0  0.0  0.0  0.0    4           0  \n"
     ]
    }
   ],
   "source": [
    "import pandas as pd\n",
    "\n",
    "df = pd.read_csv('https://raw.githubusercontent.com/Momen2410/Machine-Learning-Course/main/Data/smoke_detection_iot.csv')\n",
    "\n",
    "# Drop the 'UTC' column\n",
    "df.drop('UTC', axis=1, inplace=True)\n",
    "\n",
    "print(df.head())\n"
   ]
  },
  {
   "cell_type": "code",
   "execution_count": null,
   "id": "26751fcc",
   "metadata": {},
   "outputs": [],
   "source": []
  }
 ],
 "metadata": {
  "kernelspec": {
   "display_name": "Python 3 (ipykernel)",
   "language": "python",
   "name": "python3"
  },
  "language_info": {
   "codemirror_mode": {
    "name": "ipython",
    "version": 3
   },
   "file_extension": ".py",
   "mimetype": "text/x-python",
   "name": "python",
   "nbconvert_exporter": "python",
   "pygments_lexer": "ipython3",
   "version": "3.10.9"
  }
 },
 "nbformat": 4,
 "nbformat_minor": 5
}
